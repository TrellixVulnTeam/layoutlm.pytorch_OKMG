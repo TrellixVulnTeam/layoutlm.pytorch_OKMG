{
 "cells": [
  {
   "cell_type": "code",
   "execution_count": 1,
   "metadata": {},
   "outputs": [],
   "source": [
    "%load_ext autoreload\n",
    "%autoreload 2"
   ]
  },
  {
   "cell_type": "code",
   "execution_count": 4,
   "metadata": {},
   "outputs": [],
   "source": [
    "from transformers import BertTokenizer\n",
    "tokenizer = BertTokenizer.from_pretrained(\n",
    "    \"indobenchmark/indobert-base-p2\",\n",
    "    do_lower_case=True,\n",
    "    cache_dir=None,\n",
    ")"
   ]
  },
  {
   "cell_type": "code",
   "execution_count": 5,
   "metadata": {},
   "outputs": [],
   "source": [
    "from laylm.data.dataset import IDCardAnnoDataset\n",
    "from laylm.data import utils\n",
    "from laylm.config import token as token_cfg\n",
    "from sklearn.utils import shuffle\n",
    "\n",
    "\n",
    "path = '/data/idcard/combined/1606753021/'\n",
    "annoset = IDCardAnnoDataset(path, tokenizer)"
   ]
  },
  {
   "cell_type": "code",
   "execution_count": 18,
   "metadata": {},
   "outputs": [
    {
     "name": "stderr",
     "output_type": "stream",
     "text": [
      "Some weights of the model checkpoint at microsoft/layoutlm-base-uncased were not used when initializing LayoutLMForTokenClassification: ['cls.predictions.bias', 'cls.predictions.transform.dense.weight', 'cls.predictions.transform.dense.bias', 'cls.predictions.transform.LayerNorm.weight', 'cls.predictions.transform.LayerNorm.bias', 'cls.predictions.decoder.weight', 'cls.predictions.decoder.bias']\n",
      "- This IS expected if you are initializing LayoutLMForTokenClassification from the checkpoint of a model trained on another task or with another architecture (e.g. initializing a BertForSequenceClassification model from a BertForPreTraining model).\n",
      "- This IS NOT expected if you are initializing LayoutLMForTokenClassification from the checkpoint of a model that you expect to be exactly identical (initializing a BertForSequenceClassification model from a BertForSequenceClassification model).\n",
      "Some weights of LayoutLMForTokenClassification were not initialized from the model checkpoint at microsoft/layoutlm-base-uncased and are newly initialized: ['classifier.weight', 'classifier.bias']\n",
      "You should probably TRAIN this model on a down-stream task to be able to use it for predictions and inference.\n"
     ]
    }
   ],
   "source": [
    "from laylm.prod.prod import Extractor\n",
    "\n",
    "weight_path = '../weights/layoutlm_v2_ktp_1606753021.pth'\n",
    "extract = Extractor(tokenizer=tokenizer, weight=weight_path)\n"
   ]
  },
  {
   "cell_type": "code",
   "execution_count": 22,
   "metadata": {},
   "outputs": [
    {
     "name": "stdout",
     "output_type": "stream",
     "text": [
      "CPU times: user 2.25 s, sys: 1.48 ms, total: 2.25 s\n",
      "Wall time: 302 ms\n"
     ]
    },
    {
     "data": {
      "text/plain": [
       "{'provinsi': 'JAWA TENGAH',\n",
       " 'kabupaten': 'KENDAL',\n",
       " 'nik': '3324122608623092',\n",
       " 'nama': 'IMANUEL RICHARD CHEN SAGALA',\n",
       " 'ttl': 'KENDAL, 26-08-1962',\n",
       " 'gender': 'LAKI-LAKI',\n",
       " 'goldar': 'A',\n",
       " 'alamat': 'JL. BADUR 3',\n",
       " 'rtrw': '005/001',\n",
       " 'kelurahan': 'MANGGUNGSARI',\n",
       " 'kecamatan': 'WELERI',\n",
       " 'agama': 'ISLAM',\n",
       " 'perkawinan': 'KAWIN',\n",
       " 'pekerjaan': 'GURU',\n",
       " 'kewarganegaraan': 'WNI',\n",
       " 'berlaku': 'SEUMUR HIDUP',\n",
       " 'sign_place': 'KENDAL',\n",
       " 'sign_date': '19-01-2011'}"
      ]
     },
     "execution_count": 22,
     "metadata": {},
     "output_type": "execute_result"
    }
   ],
   "source": [
    "%%time\n",
    "extract.predict(annoset[100])"
   ]
  },
  {
   "cell_type": "code",
   "execution_count": null,
   "metadata": {},
   "outputs": [],
   "source": []
  }
 ],
 "metadata": {
  "kernelspec": {
   "display_name": "Python 3",
   "language": "python",
   "name": "python3"
  },
  "language_info": {
   "codemirror_mode": {
    "name": "ipython",
    "version": 3
   },
   "file_extension": ".py",
   "mimetype": "text/x-python",
   "name": "python",
   "nbconvert_exporter": "python",
   "pygments_lexer": "ipython3",
   "version": "3.6.8"
  }
 },
 "nbformat": 4,
 "nbformat_minor": 4
}
